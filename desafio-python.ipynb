{
 "cells": [
  {
   "cell_type": "markdown",
   "id": "c12bd56b",
   "metadata": {},
   "source": [
    "### Desafio para fazer Python! \n",
    "Suponha que você tenha uma lista de tuplas representando as notas de vários alunos em diferentes testes:\n",
    "notas = [\n",
    "('Alice', [85, 90, 92]),\n",
    "('Bob', [78, 80, 85]),\n",
    "('Charlie', [92, 88, 94])\n",
    "]\n",
    " \n",
    "Escreva uma função Python calcular_media que recebe essa lista de tuplas como argumento e retorna um dicionário onde as chaves são os nomes dos alunos e os valores são as médias das notas de cada aluno.\n",
    "\n",
    "Aqui está o resultado esperado:\n",
    "{\n",
    "'Alice': 89.0,\n",
    "'Bob': 81.0,\n",
    "'Charlie': 91.33333333333333\n",
    "}\n",
    " \n",
    "Para resolver este exercício, você pode seguir os seguintes passos:\n",
    "\n",
    "1. Crie um dicionário vazio para armazenar os resultados.\n",
    "2. Percorra cada tupla na lista notas.\n",
    "3. Para cada tupla, extraia o nome do aluno e a lista de notas.\n",
    "4. Calcule a nota média do aluno usando as funções sum e len.\n",
    "5. Adicione o nome do aluno e a média das notas ao dicionário.\n",
    "6. Retorne o dicionário.\n",
    "\n",
    "O código deverá ser commitado num publico repositório no github e o link postado aqui"
   ]
  },
  {
   "cell_type": "markdown",
   "id": "7be6ebc8",
   "metadata": {},
   "source": [
    "# "
   ]
  },
  {
   "cell_type": "code",
   "execution_count": 2,
   "id": "59b61956",
   "metadata": {},
   "outputs": [],
   "source": [
    "list = [ ('Alice', [85, 90, 92]), \n",
    "        ('Bob', [78, 80, 85]), \n",
    "        ('Charlie', [92, 88, 94]) ]"
   ]
  },
  {
   "cell_type": "code",
   "execution_count": 3,
   "id": "0e645592",
   "metadata": {},
   "outputs": [
    {
     "name": "stdout",
     "output_type": "stream",
     "text": [
      "{'Alice': 89.0, 'Bob': 81.0, 'Charlie': 91.33333333333333}\n"
     ]
    }
   ],
   "source": [
    "mediaf = {}\n",
    "\n",
    "for item in list:\n",
    "    nome = item[0]\n",
    "    nota = item[1]\n",
    "    media = sum(nota)/len(nota)\n",
    "    mediaf[nome] = media\n",
    "print(mediaf)"
   ]
  },
  {
   "cell_type": "code",
   "execution_count": 7,
   "id": "36f326ef",
   "metadata": {},
   "outputs": [
    {
     "name": "stdout",
     "output_type": "stream",
     "text": [
      "Qual o nome do Aluno(a)?: Charlie\n",
      "O(A) Aluno(a) Charlie teve a média: 91.33333333333333\n"
     ]
    }
   ],
   "source": [
    "insert = (input('Qual o nome do Aluno(a)?: '))\n",
    "\n",
    "if insert  in mediaf:\n",
    "        print('O(A) Aluno(a)', insert, 'teve a média:', mediaf.setdefault(insert))\n",
    "else:\n",
    "    print('Desculpe, o Aluno(a) não está na lista')"
   ]
  },
  {
   "cell_type": "code",
   "execution_count": null,
   "id": "b781df21",
   "metadata": {},
   "outputs": [],
   "source": [
    "\n",
    "\n",
    "\n"
   ]
  }
 ],
 "metadata": {
  "kernelspec": {
   "display_name": "Python 3 (ipykernel)",
   "language": "python",
   "name": "python3"
  },
  "language_info": {
   "codemirror_mode": {
    "name": "ipython",
    "version": 3
   },
   "file_extension": ".py",
   "mimetype": "text/x-python",
   "name": "python",
   "nbconvert_exporter": "python",
   "pygments_lexer": "ipython3",
   "version": "3.10.9"
  }
 },
 "nbformat": 4,
 "nbformat_minor": 5
}

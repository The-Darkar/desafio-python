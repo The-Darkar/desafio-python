list = [ ('Alice', [85, 90, 92]), ('Bob', [78, 80, 85]), ('Charlie', [92, 88, 94]) ] mediaf = {}
for item in list: nome = item[0] nota = item[1] media = sum(nota)/len(nota) mediaf[nome] = media print(mediaf)
if insert  in mediaf: print('O(A) Aluno(a)', insert, 'teve a média:', mediaf.setdefault(insert)) else: print('Desculpe, o Aluno(a) não está na lista')
